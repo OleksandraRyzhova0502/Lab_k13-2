{
  "nbformat": 4,
  "nbformat_minor": 0,
  "metadata": {
    "kernelspec": {
      "display_name": "Python 3",
      "language": "python",
      "name": "python3"
    },
    "language_info": {
      "codemirror_mode": {
        "name": "ipython",
        "version": 3
      },
      "file_extension": ".py",
      "mimetype": "text/x-python",
      "name": "python",
      "nbconvert_exporter": "python",
      "pygments_lexer": "ipython3",
      "version": "3.8.5"
    },
    "colab": {
      "name": "Untitled2.ipynb",
      "provenance": [],
      "include_colab_link": true
    }
  },
  "cells": [
    {
      "cell_type": "markdown",
      "metadata": {
        "id": "view-in-github",
        "colab_type": "text"
      },
      "source": [
        "<a href=\"https://colab.research.google.com/github/OleksandraRyzhova0502/Lab_k13-2/blob/master/Untitled2.ipynb\" target=\"_parent\"><img src=\"https://colab.research.google.com/assets/colab-badge.svg\" alt=\"Open In Colab\"/></a>"
      ]
    },
    {
      "cell_type": "code",
      "metadata": {
        "id": "NKF39gY34_fv"
      },
      "source": [
        "import pandas as pd\n",
        "import numpy as np\n",
        "from sklearn import linear_model\n",
        "import matplotlib.pyplot as plt"
      ],
      "execution_count": null,
      "outputs": []
    },
    {
      "cell_type": "code",
      "metadata": {
        "id": "-AOaq3Br4_fz"
      },
      "source": [
        "df = pd.read_csv('train.csv', keep_default_na=False, na_filter=False)\n",
        "df_test = pd.read_csv('test.csv', keep_default_na=False, na_filter=False)"
      ],
      "execution_count": null,
      "outputs": []
    },
    {
      "cell_type": "code",
      "metadata": {
        "id": "Igc0DGiI4_f0"
      },
      "source": [
        "for i in range(len(df.index)):\n",
        "    if df.loc[i,'Condition1'] == df.loc[i,'Condition2']:\n",
        "        df.loc[i, 'Condition2'] = 0\n",
        "for j in range(len(df_test.index)):\n",
        "    if df_test.loc[j,'Condition1'] == df_test.loc[j,'Condition2']:\n",
        "        df_test.loc[j, 'Condition2'] = 0"
      ],
      "execution_count": null,
      "outputs": []
    },
    {
      "cell_type": "code",
      "metadata": {
        "id": "qR6Qlzui4_f1"
      },
      "source": [
        "lst_title = ['MSZoning', 'Street', 'Alley', 'LotShape', 'LandContour', 'Utilities', 'LotConfig', 'LandSlope', \n",
        "             'BldgType', 'HouseStyle', 'MiscFeature', 'SaleType', 'SaleCondition', 'Fence', 'PoolQC', 'PavedDrive',\n",
        "             'GarageCond', 'GarageQual', 'GarageFinish', 'GarageType', 'FireplaceQu', 'Functional', 'KitchenQual',\n",
        "             'Electrical', 'CentralAir', 'HeatingQC', 'Heating', 'BsmtFinType2', 'BsmtFinType1', 'BsmtExposure',\n",
        "             'BsmtCond', 'BsmtQual', 'Foundation', 'ExterCond', 'ExterQual', 'MasVnrType', 'HouseStyle', 'BldgType', \n",
        "             'RoofStyle', 'RoofMatl', 'Exterior1st', 'Exterior2nd', 'Condition2', 'Condition1']\n",
        "lst_dict_to_num = [{'A': 6, 'C': 8,'C (all)': 8, 'FV': 1, 'I': 7, 'RH': 2, 'RL': 4, 'RP': 5, 'RM': 3},\n",
        "                   {'Grvl': 0, 'Pave': 1}, {'Grvl': 1, 'Pave': 2, 'NA': 0, }, {'Reg': 4, 'IR1': 3, 'IR2': 2, 'IR3': 1},\n",
        "                   {'Lvl': 4, 'Bnk': 1, 'HLS': 2, 'Low': 3}, {'AllPub': 4, 'NoSewr': 3, 'NoSeWa': 2, 'ELO': 1},\n",
        "                   {'Inside': 1, 'Corner': 4, 'CulDSac': 3, 'FR2': 4, 'FR3': 2}, {'Gtl': 3, 'Mod': 2, 'Sev': 1}, \n",
        "                   {'1Fam': 5, '2FmCon': 4, 'Duplx': 3, 'TwnhsE': 2, 'TwnhsI': 1},\n",
        "                   {'1Story': 1, '1.5Fin': 2, '1.5Unf': 3, '2Story': 4, '2.5Fin': 5, '2.5Unf': 6, 'SFoyer': 7,\n",
        "                    'SLvl': 8}, {'Elev': 1, 'Gar2': 1, 'Othr': 1, 'Shed': 1, 'TenC': 1, 'NA': 0},\n",
        "                   {'WD': 11, 'CWD': 10, 'VWD': 8, 'New': 7, 'COD': 6, 'Con': 5, 'ConLw': 4, 'ConLI': 3, 'ConLD': 2,\n",
        "                    'Oth': 1}, {'Normal': 6, 'Abnorml': 5, 'AdjLand': 4, 'Alloca': 3, 'Family': 2, 'Partial': 1},\n",
        "                   {'GdPrv': 4, 'MnPrv': 3, 'GdWo': 2, 'MnWw': 1, 'NA': 0},\n",
        "                   {'Ex': 4, 'Gd': 3, 'TA': 2, 'Fa': 1, 'NA': 0}, {'Y': 3, 'P': 2, 'N': 1},\n",
        "                   {'Ex': 5, 'Gd': 4, 'TA': 3, 'Fa': 2, 'Po': 1, 'NA': 0},\n",
        "                   {'Ex': 5, 'Gd': 4, 'TA': 3, 'Fa': 2, 'Po': 1, 'NA': 0}, {'Fin': 3, 'RFn': 2, 'Unf': 1, 'NA': 0},\n",
        "                   {'2Types': 6, 'Attchd': 3, 'Basment': 4, 'BuiltIn': 5, 'CarPort': 1, 'Detchd': 2, 'NA': 0},\n",
        "                   {'Ex': 5, 'Gd': 4, 'TA': 3, 'Fa': 2, 'Po': 1, 'NA': 0},\n",
        "                   {'Typ': 8, 'Min1': 7, 'Min2': 6, 'Mod': 5, 'Maj1': 4, 'Maj2': 3, 'Sev': 2, 'Sal': 1},\n",
        "                   {'Ex': 5, 'Gd': 4, 'TA': 3, 'Fa': 2, 'Po': 1},\n",
        "                   {'SBrkr': 5, 'FuseA': 3, 'FuseF': 2, 'FuseP': 1, 'Mix': 4},\n",
        "                   {'N': 2, 'Y': 1}, {'Ex': 5, 'Gd': 4, 'TA': 3, 'Fa': 2, 'Po': 1},\n",
        "                   {'Floor': 1, 'GasA': 6, 'GasW': 5, 'Grav': 3, 'OthW': 4, 'Wall': 2},\n",
        "                   {'GLQ': 6, 'ALQ': 5, 'BLQ': 4, 'Rec': 3, 'LwQ': 2, 'Unf': 1, 'NA': 0},\n",
        "                   {'GLQ': 6, 'ALQ': 5, 'BLQ': 4, 'Rec': 3, 'LwQ': 2, 'Unf': 1, 'NA': 0},\n",
        "                   {'Gd': 4, 'Av': 3, 'Mn': 2, 'No': 1, 'NA': 0}, {'Ex': 5, 'Gd': 4, 'TA': 3, 'Fa': 2, 'Po': 1, 'NA': 0},\n",
        "                   {'Ex': 5, 'Gd': 4, 'TA': 3, 'Fa': 2, 'Po': 1, 'NA': 0},\n",
        "                   {'BrkTil': 6, 'CBlock': 5, 'PConc': 4, 'Slab': 3, 'Stone': 2, 'Wood': 1},\n",
        "                   {'Ex': 5, 'Gd': 4, 'TA': 3, 'Fa': 2, 'Po': 1}, {'Ex': 5, 'Gd': 4, 'TA': 3, 'Fa': 2, 'Po': 1},\n",
        "                   {'BrkCmn': 2, 'BrkFace': 3, 'CBlock': 1, 'None': 0, 'Stone': 4},\n",
        "                   {'1Story': 8, '1.5Fin': 7, '1.5Unf': 6, '2Story': 5, '2.5Fin': 4, '2.5Unf': 3, 'SFoyer': 2, 'SLvl': 1},\n",
        "                   {'1Fam': 5, '2FmCon': 4, 'Duplx': 3, 'TwnhsE': 2, 'TwnhsI': 1},\n",
        "                   {'Flat': 6, 'Gable': 3, 'Gambrel': 2, 'Hip': 4, 'Mansard': 5, 'Shed': 1},\n",
        "                   {'ClyTile': 3, 'CompShg': 6, 'Membran': 8, 'Metal': 7, 'Roll': 5, 'Tar&Grv': 4, 'WdShake': 1, 'WdShngl': 2},\n",
        "                   {'AsbShng': 7, 'AsphShn': 6, 'BrkComm': 12, 'BrkFace': 3, 'CBlock': 11, 'CemntBd': 13, 'HdBoard': 15, 'ImStucc': 10, \n",
        "                    'MetalSd': 9, 'Other': 17, 'Plywood': 16, 'PreCast': 14, 'Stone': 1, 'Stucco': 5, 'VinylSd': 8, 'Wd Sdng': 2, 'WdShing': 4}, \n",
        "                   {'AsbShng': 7, 'AsphShn': 6, 'BrkComm': 12, 'BrkFace': 3, 'CBlock': 11, 'CemntBd': 13, 'HdBoard': 15, 'ImStucc': 10, \n",
        "                    'MetalSd': 9, 'Other': 17, 'Plywood': 16, 'PreCast': 14, 'Stone': 1, 'Stucco': 5, 'VinylSd': 8, 'Wd Sdng': 2, 'WdShing': 4},\n",
        "                   {'Artery': 2, 'Feedr': 1, 'Norm': 0, 'RRNn': -1, 'RRAn': -2, 'PosN': 2, 'PosA': 1, 'RRNe': -1, 'RRAe': -2},\n",
        "                   {'Artery': 2, 'Feedr': 1, 'Norm': 0, 'RRNn': -1, 'RRAn': -2, 'PosN': 2, 'PosA': 1, 'RRNe': -1, 'RRAe': -2}]"
      ],
      "execution_count": null,
      "outputs": []
    },
    {
      "cell_type": "code",
      "metadata": {
        "id": "AuGdUGsQ4_f2"
      },
      "source": [
        "#str to num\n",
        "for column in df:\n",
        "    for i in range(len(lst_title)):\n",
        "        if column == lst_title[i]:\n",
        "            df[lst_title[i]] = df[lst_title[i]].map(lst_dict_to_num[i])\n",
        "for column in df_test:\n",
        "    for i in range(len(lst_title)):\n",
        "        if column == lst_title[i]:\n",
        "            df_test[lst_title[i]] = df_test[lst_title[i]].map(lst_dict_to_num[i])"
      ],
      "execution_count": null,
      "outputs": []
    },
    {
      "cell_type": "code",
      "metadata": {
        "id": "ecCKevQ14_f3"
      },
      "source": [
        "for column in df:\n",
        "    df.loc[df[column] == 'NA', column] = 0\n",
        "for column in df_test:\n",
        "    df_test.loc[df_test[column] == 'NA', column] = 0"
      ],
      "execution_count": null,
      "outputs": []
    },
    {
      "cell_type": "code",
      "metadata": {
        "id": "6hIWiPKi4_f4"
      },
      "source": [
        "neighborhood = ['Blmngtn', 'Blueste', 'BrDale', 'BrkSide', 'ClearCr', \n",
        "                'CollgCr', 'Crawfor', 'Edwards', 'Gilbert', 'IDOTRR',\n",
        "                'MeadowV', 'Mitchel', 'Names', 'NoRidge', 'NPkVill', \n",
        "                'NridgHt', 'NWAmes', 'OldTown', 'SWISU', 'Sawyer', \n",
        "                'SawyerW', 'Somerst', 'StoneBr', 'Timber', 'Veenker']"
      ],
      "execution_count": null,
      "outputs": []
    },
    {
      "cell_type": "code",
      "metadata": {
        "id": "Ol7mGmry4_f4"
      },
      "source": [
        "for i in neighborhood:\n",
        "    s = []\n",
        "    for j in range(len(df.index)):\n",
        "        if df.loc[j,'Neighborhood'] == i:\n",
        "            s.append(1)\n",
        "        else:\n",
        "            s.append(0)\n",
        "    df[i] = pd.Series(s)\n",
        "del df['Neighborhood']\n",
        "for i in neighborhood:\n",
        "    s = []\n",
        "    for j in range(len(df_test.index)):\n",
        "        if df_test.loc[j,'Neighborhood'] == i:\n",
        "            s.append(1)\n",
        "        else:\n",
        "            s.append(0)\n",
        "    df_test[i] = pd.Series(s)\n",
        "del df_test['Neighborhood']"
      ],
      "execution_count": null,
      "outputs": []
    },
    {
      "cell_type": "code",
      "metadata": {
        "id": "EEPG2-v64_f5"
      },
      "source": [
        "for column in df:\n",
        "    if (df[column]).dtype == object or (df[column]).dtype == None:\n",
        "        del df[column]\n",
        "    else:\n",
        "        df[column].astype(np.float64)\n",
        "for column in df_test:\n",
        "    if (df_test[column]).dtype == object or (df_test[column]).dtype == None:\n",
        "        del df_test[column]\n",
        "    else:\n",
        "        df_test[column].astype(np.float64)"
      ],
      "execution_count": null,
      "outputs": []
    },
    {
      "cell_type": "code",
      "metadata": {
        "id": "lfVQowJP4_f6"
      },
      "source": [
        "col = list(df.columns)\n",
        "col.remove('SalePrice')\n",
        "col.remove('Id')\n",
        "col1 = list(df_test.columns)\n",
        "col1.remove('Id')"
      ],
      "execution_count": null,
      "outputs": []
    },
    {
      "cell_type": "code",
      "metadata": {
        "id": "1Yyd4rUf4_f7"
      },
      "source": [
        "for columns in df:\n",
        "    if columns in list(df_test.columns) or columns == 'SalePrice':\n",
        "        df[columns] = df[columns]\n",
        "    else:\n",
        "        del df[columns]\n",
        "for columns in df_test:\n",
        "    if columns not in list(df.columns):\n",
        "        del df_test[columns]"
      ],
      "execution_count": null,
      "outputs": []
    },
    {
      "cell_type": "code",
      "metadata": {
        "id": "SUcEXrq24_f7"
      },
      "source": [
        "target = df['SalePrice']"
      ],
      "execution_count": null,
      "outputs": []
    },
    {
      "cell_type": "code",
      "metadata": {
        "id": "5MXNF1LH4_f8"
      },
      "source": [
        "df_train = df.copy()\n",
        "del df_train['SalePrice']"
      ],
      "execution_count": null,
      "outputs": []
    },
    {
      "cell_type": "code",
      "metadata": {
        "id": "7h5BwrIa4_f8"
      },
      "source": [
        "X = np.array(df_train)\n",
        "y = target\n",
        "Z = np.array(df_test)"
      ],
      "execution_count": null,
      "outputs": []
    },
    {
      "cell_type": "code",
      "metadata": {
        "id": "EyVpagxx4_f9"
      },
      "source": [
        "lm = linear_model.LinearRegression()"
      ],
      "execution_count": null,
      "outputs": []
    },
    {
      "cell_type": "code",
      "metadata": {
        "id": "rTNQl4WX4_f-"
      },
      "source": [
        "model = lm.fit(X,y)"
      ],
      "execution_count": null,
      "outputs": []
    },
    {
      "cell_type": "code",
      "metadata": {
        "id": "JFrB_Rpc4_f_"
      },
      "source": [
        "predictions = lm.predict(X)"
      ],
      "execution_count": null,
      "outputs": []
    },
    {
      "cell_type": "code",
      "metadata": {
        "id": "l1tmKKAh4_gA",
        "outputId": "dd7fae24-5ccc-443d-9ea8-d85cffaf794c"
      },
      "source": [
        "print(predictions)"
      ],
      "execution_count": null,
      "outputs": [
        {
          "output_type": "stream",
          "text": [
            "[211588.42500872 238201.23264893 216331.10882483 ... 268990.06215838\n",
            " 147197.59388493 157343.55342574]\n"
          ],
          "name": "stdout"
        }
      ]
    },
    {
      "cell_type": "code",
      "metadata": {
        "id": "EI7eEtCU4_gB",
        "outputId": "5a0fa1a3-3bc1-4df8-fadf-a2ed4dfe99fb"
      },
      "source": [
        "lm.score(X,y)"
      ],
      "execution_count": null,
      "outputs": [
        {
          "output_type": "execute_result",
          "data": {
            "text/plain": [
              "0.8565353720662391"
            ]
          },
          "metadata": {
            "tags": []
          },
          "execution_count": 583
        }
      ]
    },
    {
      "cell_type": "code",
      "metadata": {
        "id": "19hPmbNf4_gC"
      },
      "source": [
        "predictions_test = lm.predict(Z)"
      ],
      "execution_count": null,
      "outputs": []
    },
    {
      "cell_type": "code",
      "metadata": {
        "id": "H6vgXohV4_gD"
      },
      "source": [
        "result = pd.DataFrame(df_test['Id'])"
      ],
      "execution_count": null,
      "outputs": []
    },
    {
      "cell_type": "code",
      "metadata": {
        "id": "R8Lsylh74_gD"
      },
      "source": [
        "result['SalePrice'] = np.array(predictions_test)"
      ],
      "execution_count": null,
      "outputs": []
    },
    {
      "cell_type": "code",
      "metadata": {
        "id": "QJU8yK_U4_gE",
        "outputId": "ea4c2fc9-f032-4d09-dff5-126f7fe12415"
      },
      "source": [
        "result.head()"
      ],
      "execution_count": null,
      "outputs": [
        {
          "output_type": "execute_result",
          "data": {
            "text/html": [
              "<div>\n",
              "<style scoped>\n",
              "    .dataframe tbody tr th:only-of-type {\n",
              "        vertical-align: middle;\n",
              "    }\n",
              "\n",
              "    .dataframe tbody tr th {\n",
              "        vertical-align: top;\n",
              "    }\n",
              "\n",
              "    .dataframe thead th {\n",
              "        text-align: right;\n",
              "    }\n",
              "</style>\n",
              "<table border=\"1\" class=\"dataframe\">\n",
              "  <thead>\n",
              "    <tr style=\"text-align: right;\">\n",
              "      <th></th>\n",
              "      <th>Id</th>\n",
              "      <th>SalePrice</th>\n",
              "    </tr>\n",
              "  </thead>\n",
              "  <tbody>\n",
              "    <tr>\n",
              "      <th>0</th>\n",
              "      <td>1461</td>\n",
              "      <td>119076.732673</td>\n",
              "    </tr>\n",
              "    <tr>\n",
              "      <th>1</th>\n",
              "      <td>1462</td>\n",
              "      <td>157157.979502</td>\n",
              "    </tr>\n",
              "    <tr>\n",
              "      <th>2</th>\n",
              "      <td>1463</td>\n",
              "      <td>174197.741387</td>\n",
              "    </tr>\n",
              "    <tr>\n",
              "      <th>3</th>\n",
              "      <td>1464</td>\n",
              "      <td>187664.231296</td>\n",
              "    </tr>\n",
              "    <tr>\n",
              "      <th>4</th>\n",
              "      <td>1465</td>\n",
              "      <td>234593.390265</td>\n",
              "    </tr>\n",
              "  </tbody>\n",
              "</table>\n",
              "</div>"
            ],
            "text/plain": [
              "     Id      SalePrice\n",
              "0  1461  119076.732673\n",
              "1  1462  157157.979502\n",
              "2  1463  174197.741387\n",
              "3  1464  187664.231296\n",
              "4  1465  234593.390265"
            ]
          },
          "metadata": {
            "tags": []
          },
          "execution_count": 606
        }
      ]
    },
    {
      "cell_type": "code",
      "metadata": {
        "id": "a9ABcPj94_gE"
      },
      "source": [
        "result = result.to_csv('result.csv')"
      ],
      "execution_count": null,
      "outputs": []
    }
  ]
}